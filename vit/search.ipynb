{
 "cells": [
  {
   "cell_type": "code",
   "execution_count": 1,
   "metadata": {},
   "outputs": [],
   "source": [
    "#导入所需的包\n",
    "import numpy as np \n",
    "import pandas as pd \n",
    "\n",
    "#导入npy文件路径位置\n",
    "test1 = np.load('/extended_1/ZYuan/vit/searched_policy.npy')\n",
    "# print(test1)\n",
    "# test1 = test1[-15]\n",
    "test2 = np.load('/extended_1/ZYuan/vit/searched_accuracy.npy')\n",
    "# print(test2)\n",
    "# test2 = test2[-15]\n",
    "\n",
    "\n",
    "\n",
    "data = open(\"/extended_1/ZYuan/vit/search.txt\",'w+') \n",
    "#显示所有列\n",
    "pd.set_option('display.max_columns', None)\n",
    "#显示所有行\n",
    "pd.set_option('display.max_rows', None)\n",
    "print('policy\\n', file=data)\n",
    "print(test1, file=data)\n",
    "print('accuracy\\n', file=data)\n",
    "print(test2, file=data)\n",
    "data.close()"
   ]
  }
 ],
 "metadata": {
  "kernelspec": {
   "display_name": "ZYuanVit",
   "language": "python",
   "name": "python3"
  },
  "language_info": {
   "codemirror_mode": {
    "name": "ipython",
    "version": 3
   },
   "file_extension": ".py",
   "mimetype": "text/x-python",
   "name": "python",
   "nbconvert_exporter": "python",
   "pygments_lexer": "ipython3",
   "version": "3.9.18"
  }
 },
 "nbformat": 4,
 "nbformat_minor": 2
}
